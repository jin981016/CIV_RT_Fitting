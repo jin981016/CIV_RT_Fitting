{
 "cells": [
  {
   "cell_type": "code",
   "execution_count": 37,
   "metadata": {},
   "outputs": [
    {
     "name": "stdout",
     "output_type": "stream",
     "text": [
      "3.39e+13\n"
     ]
    }
   ],
   "source": [
    "import matplotlib.pyplot as plt\n",
    "import numpy as np \n",
    "import pandas as pd \n",
    "import os\n",
    "from astropy.constants import c\n",
    "from astropy import constants as const\n",
    "import astropy.units as u\n",
    "from scipy import special\n",
    "\n",
    "\n",
    "def weight(n):\n",
    "    return 2 * n**2\n",
    "\n",
    "def boltzmann(n1, n2, eV, T):\n",
    "    k = 8.6173303e-5  # Boltzmann constant in eV/K\n",
    "    g_n = weight(n2) / weight(n1) * np.exp(-eV / (k * T))\n",
    "    return g_n\n",
    "\n",
    "def CIV(T):\n",
    "    sigma_Lya = 5.9e-14 * (T / 1e4) ** (-1/2)\n",
    "    sigma_CIV = (0.19 / 0.4164) * sigma_Lya * (12) ** (0.5)\n",
    "    N_CIV_0 = 1 / sigma_CIV\n",
    "    return sigma_Lya, sigma_CIV, N_CIV_0\n",
    "\n",
    "sig_ly, sig_c, N_CIV_0 = CIV(1e5)\n",
    "print(\"{:.2e}\".format(N_CIV_0))\n",
    "\n",
    "def tau(sig_c, x):\n",
    "    return sig_c * x\n",
    "\n",
    "\n",
    "directory_1 = '/home/jin/data_CIV/'\n",
    "rr = np.arange(12, 17, 1, dtype=np.float128)\n",
    "atom_N = [13,20,32,50,79]\n",
    "total_N_c = np.outer(10**rr, atom_N) / 10\n",
    "total_N_c = total_N_c.flatten()\n",
    "\n",
    "emit = np.arange(100,700,100)\n",
    "emit = np.append([1,50],emit)\n",
    "\n",
    "expand_vel = np.arange(0,1100,100)\n",
    "\n",
    "random_vel= [11.8,30,50,100,150]\n",
    "\n",
    "\n",
    "C_IV_K = 1548.187e-8  # cm\n",
    "C_IV_H = 1550.772e-8  # cm\n",
    "\n",
    "C_IV_K_A = 1548.187 # cm\n",
    "C_IV_H_A = 1550.772  # cm\n",
    "\n",
    "cc = c.to(u.cm / u.s).value\n",
    "v_th = 11.7673179819719e5  # cm/s\n",
    "\n",
    "K_gamma = 2.65e+8\n",
    "H_gamma = 2.64e+8\n",
    "f_CIV_K = 0.190\n",
    "f_CIV_H = 0.0952\n",
    "\n",
    "\n",
    "# directory_1 = '/home/jin/data_jin/'\n",
    "\n",
    "cc_k = c.to(u.km / u.s).value\n",
    "V_K = 0\n",
    "V_H = (C_IV_H/C_IV_K -1 ) * cc_k\n",
    "def function(sigma,lam,lam_k,lam_h):\n",
    "    tv_k = ((lam-lam_k) / lam_k ) * cc_k\n",
    "    tv_h = ((lam-lam_h) / lam_h ) * cc_k\n",
    "    tk = (tv_k)**2 / sigma**2\n",
    "    th = (tv_h)**2 / sigma**2\n",
    "    fx = (1 / np.sqrt(2*np.pi*sigma**2))  *(2*np.exp(-tk/2) + np.exp(-th/2) )\n",
    "    f0 = fx[np.argmax(fx)]\n",
    "    return fx , f0\n",
    "\n",
    "# plt.plot(del_V_space_g,yy_g)\n",
    "\n",
    "\n",
    "def finding_FWHM_K(x, y,v_0):\n",
    "\n",
    "\n",
    "    y_1_max = y.max()\n",
    "    yc_1 = y_1_max / 2\n",
    "    x_f_1 = []\n",
    "\n",
    "    for ii in range(len(y) - 1):\n",
    "        bb_1 = (y[ii] - yc_1) * (y[ii+1] - yc_1)    \n",
    "        if bb_1 < 0:\n",
    "            x_f_1.append(x[ii])\n",
    "\n",
    "    if x_f_1 :\n",
    "        # blue_w = abs(min(x_f_1) - x_1[np.argmax(y_1)])\n",
    "        FWHM = abs(min(x_f_1) - v_0)\n",
    "    else:\n",
    "        FWHM = 0\n",
    "\n",
    "    # print(yc_1, yc_2)\n",
    "    return FWHM*2\n",
    "\n",
    "\n",
    "def finding_FWHM_H(x, y,v_0):\n",
    "\n",
    "    y_1_max = y.max()\n",
    "    yc_1 = y_1_max / 2\n",
    "    x_f_1 = []\n",
    "\n",
    "    for ii in range(len(y) - 1):\n",
    "        bb_1 = (y[ii] - yc_1) * (y[ii+1] - yc_1)    \n",
    "        if bb_1 < 0:\n",
    "            x_f_1.append(x[ii])\n",
    "\n",
    "    if x_f_1 :\n",
    "        # blue_w = abs(min(x_f_1) - x_1[np.argmax(y_1)])\n",
    "        FWHM = abs(min(x_f_1) - v_0)\n",
    "    else:\n",
    "        FWHM = 0\n",
    "\n",
    "    # print(yc_1, yc_2)\n",
    "    return  FWHM*2\n",
    "\n",
    "sigma_Lya, sigma_CIV, N_CIV_0 = CIV(1e5)\n",
    "tau_0 = tau(sigma_CIV,total_N_c)"
   ]
  },
  {
   "cell_type": "code",
   "execution_count": 38,
   "metadata": {},
   "outputs": [
    {
     "name": "stdout",
     "output_type": "stream",
     "text": [
      "0\n"
     ]
    }
   ],
   "source": [
    "check = 0\n",
    "for ii, index in enumerate(rr):\n",
    "    index = int(index)\n",
    "    for jj, atom in enumerate(atom_N):\n",
    "        atom = int(atom)\n",
    "        for kk, v_rand in enumerate(random_vel):\n",
    "            if v_rand == 11.8:\n",
    "                v_rand = int(v_rand * 10)\n",
    "                v_rand_title = int(v_rand)\n",
    "                v_rand_index = 1\n",
    "            elif v_rand < 100 and v_rand > 15:\n",
    "                D = int(v_rand * 10)\n",
    "                v_rand_index = 1\n",
    "            else:\n",
    "                v_rand_title = int(v_rand)\n",
    "                v_rand_index = 2\n",
    "            for oo,expand_v in enumerate(expand_vel):\n",
    "                if expand_v == 0:\n",
    "                    expand_title = '000'\n",
    "                    expand_index = 0\n",
    "                elif expand_v >= 1000:\n",
    "                    expand_title = int(expand_v/10)\n",
    "                    expand_index= 3\n",
    "                else :\n",
    "                    expand_title = expand_v\n",
    "                    expand_index = 2\n",
    "                for mm, emit_v in enumerate(emit):\n",
    "                    if emit_v == 1 :\n",
    "                        emit_title = 100\n",
    "                        emit_index = 0\n",
    "                    elif emit_v >= 1000:\n",
    "                        emit_title = int(emit_v/10)\n",
    "                        emit_index = 3 \n",
    "                    elif emit_v < 100  and emit_v > 1:\n",
    "                            emit_title = int(emit_v * 10)\n",
    "                            emit_index = 1\n",
    "                    else :\n",
    "                        emit_title = emit_v\n",
    "                        emit_index = 2\n",
    "\n",
    "                    path_sp= f'{directory_1}N_atom{atom}0E+{index}_Vexp{expand_title}E+0{expand_index}_Vemit{emit_title}E+0{emit_index}_tauD000E+00_Vran{v_rand_title}E+0{v_rand_index}spec_com.dat'\n",
    "\n",
    "                    path_sp_dat = f'{directory_1}N_atom{atom}0E+{index}_Vexp{expand_title}E+0{expand_index}_Vemit{emit_title}E+0{emit_index}_tauD000E+00_Vran{v_rand_title}E+0{v_rand_index}spec.dat'\n",
    "\n",
    "                    try:\n",
    "                        data_sp = pd.read_csv(path_sp, sep='\\s+', header=None)\n",
    "                        data_sp_dat = pd.read_csv(path_sp_dat, sep='\\s+', header=None)\n",
    "                    except FileNotFoundError:\n",
    "                        print(f\"파일을 찾을 수 없습니다: {path_sp}\")\n",
    "                        print(f\"파일을 찾을 수 없습니다: {path_sp_dat}\")\n",
    "                        check += 1\n",
    "                        continue\n",
    "\n",
    "                    globals()[f'data_sp_dat_{atom}_{index}_{expand_v}_{v_rand}_{emit_v}'] = pd.read_csv(path_sp_dat, sep='\\s+', header=None)\n",
    "\n",
    "                    globals()[f'lam_dat_{atom}_{index}_{expand_v}_{v_rand}_{emit_v}'] = globals()[f'data_sp_dat_{atom}_{index}_{expand_v}_{v_rand}_{emit_v}'][0]\n",
    "                    globals()[f'K_int_{atom}_{index}_{expand_v}_{v_rand}_{emit_v}'] = globals()[f'data_sp_dat_{atom}_{index}_{expand_v}_{v_rand}_{emit_v}'][1]\n",
    "                    globals()[f'H_int_{atom}_{index}_{expand_v}_{v_rand}_{emit_v}'] = globals()[f'data_sp_dat_{atom}_{index}_{expand_v}_{v_rand}_{emit_v}'][2]\n",
    "                    globals()[f'K_sct_{atom}_{index}_{expand_v}_{v_rand}_{emit_v}'] = globals()[f'data_sp_dat_{atom}_{index}_{expand_v}_{v_rand}_{emit_v}'][3]\n",
    "                    globals()[f'H_sct_{atom}_{index}_{expand_v}_{v_rand}_{emit_v}'] = globals()[f'data_sp_dat_{atom}_{index}_{expand_v}_{v_rand}_{emit_v}'][4]\n",
    "\n",
    "print(check)"
   ]
  },
  {
   "cell_type": "code",
   "execution_count": 66,
   "metadata": {},
   "outputs": [
    {
     "data": {
      "text/plain": [
       "(-0.5, 0.5)"
      ]
     },
     "execution_count": 66,
     "metadata": {},
     "output_type": "execute_result"
    },
    {
     "data": {
      "image/png": "[encoded data removed]",
      "text/plain": [
       "<Figure size 640x480 with 1 Axes>"
      ]
     },
     "metadata": {},
     "output_type": "display_data"
    }
   ],
   "source": [
    "atom = 50\n",
    "index = 12\n",
    "expand_v = 500\n",
    "v_rand = 118\n",
    "emit_v = 50\n",
    "\n",
    "plt.plot(globals()[f'lam_dat_{atom}_{index}_{expand_v}_{v_rand}_{emit_v}'] , globals()[f'K_int_{atom}_{index}_{expand_v}_{v_rand}_{emit_v}'],'r--' )\n",
    "\n",
    "plt.plot(globals()[f'lam_dat_{atom}_{index}_{expand_v}_{v_rand}_{emit_v}'] , globals()[f'H_int_{atom}_{index}_{expand_v}_{v_rand}_{emit_v}'],'b--' )\n",
    "\n",
    "\n",
    "plt.xlim(-0.5,0.5)\n"
   ]
  },
  {
   "cell_type": "code",
   "execution_count": 68,
   "metadata": {},
   "outputs": [
    {
     "data": {
      "text/plain": [
       "(0.0, 3.0)"
      ]
     },
     "execution_count": 68,
     "metadata": {},
     "output_type": "execute_result"
    },
    {
     "data": {
      "image/png": "[encoded data removed]",
      "text/plain": [
       "<Figure size 640x480 with 1 Axes>"
      ]
     },
     "metadata": {},
     "output_type": "display_data"
    }
   ],
   "source": [
    "plt.plot(globals()[f'lam_dat_{atom}_{index}_{expand_v}_{v_rand}_{emit_v}'] , globals()[f'K_int_{atom}_{index}_{expand_v}_{v_rand}_{emit_v}']/globals()[f'H_int_{atom}_{index}_{expand_v}_{v_rand}_{emit_v}'],'r--' )\n",
    "plt.xlim(-0.5,0.5)\n",
    "plt.ylim(0,3)\n"
   ]
  }
 ],
 "metadata": {
  "kernelspec": {
   "display_name": "Python 3",
   "language": "python",
   "name": "python3"
  },
  "language_info": {
   "codemirror_mode": {
    "name": "ipython",
    "version": 3
   },
   "file_extension": ".py",
   "mimetype": "text/x-python",
   "name": "python",
   "nbconvert_exporter": "python",
   "pygments_lexer": "ipython3",
   "version": "3.10.12"
  }
 },
 "nbformat": 4,
 "nbformat_minor": 2
}
